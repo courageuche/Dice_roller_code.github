{
 "cells": [
  {
   "cell_type": "code",
   "execution_count": null,
   "id": "64ebc2f7-5d6a-40b6-a5da-da485b70a76f",
   "metadata": {},
   "outputs": [
    {
     "name": "stdin",
     "output_type": "stream",
     "text": [
      "play a game? y\n"
     ]
    },
    {
     "name": "stdout",
     "output_type": "stream",
     "text": [
      "5\n",
      "1\n",
      "6\n",
      "starting point, try again\n"
     ]
    },
    {
     "name": "stdin",
     "output_type": "stream",
     "text": [
      "play a game? y\n"
     ]
    },
    {
     "name": "stdout",
     "output_type": "stream",
     "text": [
      "3\n",
      "6\n",
      "9\n",
      "fair enough. you still got more\n"
     ]
    },
    {
     "name": "stdin",
     "output_type": "stream",
     "text": [
      "play a game? y\n"
     ]
    },
    {
     "name": "stdout",
     "output_type": "stream",
     "text": [
      "3\n",
      "1\n",
      "4\n",
      "just dey play\n"
     ]
    },
    {
     "name": "stdin",
     "output_type": "stream",
     "text": [
      "play a game? y\n"
     ]
    },
    {
     "name": "stdout",
     "output_type": "stream",
     "text": [
      "3\n",
      "4\n",
      "7\n",
      "fair enough. you still got more\n"
     ]
    },
    {
     "name": "stdin",
     "output_type": "stream",
     "text": [
      "play a game? y\n"
     ]
    },
    {
     "name": "stdout",
     "output_type": "stream",
     "text": [
      "4\n",
      "5\n",
      "9\n",
      "fair enough. you still got more\n"
     ]
    },
    {
     "name": "stdin",
     "output_type": "stream",
     "text": [
      "play a game? y\n"
     ]
    },
    {
     "name": "stdout",
     "output_type": "stream",
     "text": [
      "5\n",
      "6\n",
      "11\n",
      "Good! but you can do better\n"
     ]
    },
    {
     "name": "stdin",
     "output_type": "stream",
     "text": [
      "play a game? y\n"
     ]
    },
    {
     "name": "stdout",
     "output_type": "stream",
     "text": [
      "3\n",
      "5\n",
      "8\n",
      "fair enough. you still got more\n"
     ]
    },
    {
     "name": "stdin",
     "output_type": "stream",
     "text": [
      "play a game? y\n"
     ]
    },
    {
     "name": "stdout",
     "output_type": "stream",
     "text": [
      "5\n",
      "1\n",
      "6\n",
      "starting point, try again\n"
     ]
    },
    {
     "name": "stdin",
     "output_type": "stream",
     "text": [
      "play a game? y\n"
     ]
    },
    {
     "name": "stdout",
     "output_type": "stream",
     "text": [
      "4\n",
      "4\n",
      "8\n",
      "fair enough. you still got more\n"
     ]
    },
    {
     "name": "stdin",
     "output_type": "stream",
     "text": [
      "play a game? y\n"
     ]
    },
    {
     "name": "stdout",
     "output_type": "stream",
     "text": [
      "6\n",
      "5\n",
      "11\n",
      "Good! but you can do better\n"
     ]
    },
    {
     "name": "stdin",
     "output_type": "stream",
     "text": [
      "play a game? y\n"
     ]
    },
    {
     "name": "stdout",
     "output_type": "stream",
     "text": [
      "5\n",
      "1\n",
      "6\n",
      "starting point, try again\n"
     ]
    },
    {
     "name": "stdin",
     "output_type": "stream",
     "text": [
      "play a game? y\n"
     ]
    },
    {
     "name": "stdout",
     "output_type": "stream",
     "text": [
      "2\n",
      "4\n",
      "6\n",
      "starting point, try again\n"
     ]
    },
    {
     "name": "stdin",
     "output_type": "stream",
     "text": [
      "play a game? y\n"
     ]
    },
    {
     "name": "stdout",
     "output_type": "stream",
     "text": [
      "4\n",
      "4\n",
      "8\n",
      "fair enough. you still got more\n"
     ]
    },
    {
     "name": "stdin",
     "output_type": "stream",
     "text": [
      "play a game? y\n"
     ]
    },
    {
     "name": "stdout",
     "output_type": "stream",
     "text": [
      "3\n",
      "2\n",
      "5\n",
      "just dey play\n"
     ]
    },
    {
     "name": "stdin",
     "output_type": "stream",
     "text": [
      "play a game? y\n"
     ]
    },
    {
     "name": "stdout",
     "output_type": "stream",
     "text": [
      "4\n",
      "3\n",
      "7\n",
      "fair enough. you still got more\n"
     ]
    },
    {
     "name": "stdin",
     "output_type": "stream",
     "text": [
      "play a game? y\n"
     ]
    },
    {
     "name": "stdout",
     "output_type": "stream",
     "text": [
      "4\n",
      "3\n",
      "7\n",
      "fair enough. you still got more\n"
     ]
    },
    {
     "name": "stdin",
     "output_type": "stream",
     "text": [
      "play a game? y\n"
     ]
    },
    {
     "name": "stdout",
     "output_type": "stream",
     "text": [
      "4\n",
      "1\n",
      "5\n",
      "just dey play\n"
     ]
    },
    {
     "name": "stdin",
     "output_type": "stream",
     "text": [
      "play a game? y\n"
     ]
    },
    {
     "name": "stdout",
     "output_type": "stream",
     "text": [
      "2\n",
      "1\n",
      "3\n",
      "just dey play\n"
     ]
    },
    {
     "name": "stdin",
     "output_type": "stream",
     "text": [
      "play a game? y\n"
     ]
    },
    {
     "name": "stdout",
     "output_type": "stream",
     "text": [
      "6\n",
      "3\n",
      "9\n",
      "fair enough. you still got more\n"
     ]
    },
    {
     "name": "stdin",
     "output_type": "stream",
     "text": [
      "play a game? y\n"
     ]
    },
    {
     "name": "stdout",
     "output_type": "stream",
     "text": [
      "6\n",
      "5\n",
      "11\n",
      "Good! but you can do better\n"
     ]
    },
    {
     "name": "stdin",
     "output_type": "stream",
     "text": [
      "play a game? y\n"
     ]
    },
    {
     "name": "stdout",
     "output_type": "stream",
     "text": [
      "3\n",
      "6\n",
      "9\n",
      "fair enough. you still got more\n"
     ]
    },
    {
     "name": "stdin",
     "output_type": "stream",
     "text": [
      "play a game? y\n"
     ]
    },
    {
     "name": "stdout",
     "output_type": "stream",
     "text": [
      "2\n",
      "1\n",
      "3\n",
      "just dey play\n"
     ]
    },
    {
     "name": "stdin",
     "output_type": "stream",
     "text": [
      "play a game? y\n"
     ]
    },
    {
     "name": "stdout",
     "output_type": "stream",
     "text": [
      "1\n",
      "6\n",
      "7\n",
      "fair enough. you still got more\n"
     ]
    },
    {
     "name": "stdin",
     "output_type": "stream",
     "text": [
      "play a game? y\n"
     ]
    },
    {
     "name": "stdout",
     "output_type": "stream",
     "text": [
      "4\n",
      "6\n",
      "10\n",
      "Good! but you can do better\n"
     ]
    },
    {
     "name": "stdin",
     "output_type": "stream",
     "text": [
      "play a game? y\n"
     ]
    },
    {
     "name": "stdout",
     "output_type": "stream",
     "text": [
      "3\n",
      "4\n",
      "7\n",
      "fair enough. you still got more\n"
     ]
    },
    {
     "name": "stdin",
     "output_type": "stream",
     "text": [
      "play a game? y\n"
     ]
    },
    {
     "name": "stdout",
     "output_type": "stream",
     "text": [
      "3\n",
      "4\n",
      "7\n",
      "fair enough. you still got more\n"
     ]
    },
    {
     "name": "stdin",
     "output_type": "stream",
     "text": [
      "play a game? y\n"
     ]
    },
    {
     "name": "stdout",
     "output_type": "stream",
     "text": [
      "2\n",
      "2\n",
      "4\n",
      "just dey play\n"
     ]
    },
    {
     "name": "stdin",
     "output_type": "stream",
     "text": [
      "play a game? y\n"
     ]
    },
    {
     "name": "stdout",
     "output_type": "stream",
     "text": [
      "1\n",
      "2\n",
      "3\n",
      "just dey play\n"
     ]
    },
    {
     "name": "stdin",
     "output_type": "stream",
     "text": [
      "play a game? y\n"
     ]
    },
    {
     "name": "stdout",
     "output_type": "stream",
     "text": [
      "4\n",
      "3\n",
      "7\n",
      "fair enough. you still got more\n"
     ]
    },
    {
     "name": "stdin",
     "output_type": "stream",
     "text": [
      "play a game? y\n"
     ]
    },
    {
     "name": "stdout",
     "output_type": "stream",
     "text": [
      "1\n",
      "3\n",
      "4\n",
      "just dey play\n"
     ]
    },
    {
     "name": "stdin",
     "output_type": "stream",
     "text": [
      "play a game? y\n"
     ]
    },
    {
     "name": "stdout",
     "output_type": "stream",
     "text": [
      "4\n",
      "3\n",
      "7\n",
      "fair enough. you still got more\n"
     ]
    },
    {
     "name": "stdin",
     "output_type": "stream",
     "text": [
      "play a game? y\n"
     ]
    },
    {
     "name": "stdout",
     "output_type": "stream",
     "text": [
      "3\n",
      "2\n",
      "5\n",
      "just dey play\n"
     ]
    },
    {
     "name": "stdin",
     "output_type": "stream",
     "text": [
      "play a game? y\n"
     ]
    },
    {
     "name": "stdout",
     "output_type": "stream",
     "text": [
      "2\n",
      "1\n",
      "3\n",
      "just dey play\n"
     ]
    },
    {
     "name": "stdin",
     "output_type": "stream",
     "text": [
      "play a game? y\n"
     ]
    },
    {
     "name": "stdout",
     "output_type": "stream",
     "text": [
      "6\n",
      "3\n",
      "9\n",
      "fair enough. you still got more\n"
     ]
    },
    {
     "name": "stdin",
     "output_type": "stream",
     "text": [
      "play a game? y\n"
     ]
    },
    {
     "name": "stdout",
     "output_type": "stream",
     "text": [
      "1\n",
      "3\n",
      "4\n",
      "just dey play\n"
     ]
    },
    {
     "name": "stdin",
     "output_type": "stream",
     "text": [
      "play a game? y\n"
     ]
    },
    {
     "name": "stdout",
     "output_type": "stream",
     "text": [
      "1\n",
      "4\n",
      "5\n",
      "just dey play\n"
     ]
    },
    {
     "name": "stdin",
     "output_type": "stream",
     "text": [
      "play a game? y\n"
     ]
    },
    {
     "name": "stdout",
     "output_type": "stream",
     "text": [
      "3\n",
      "1\n",
      "4\n",
      "just dey play\n"
     ]
    },
    {
     "name": "stdin",
     "output_type": "stream",
     "text": [
      "play a game? y\n"
     ]
    },
    {
     "name": "stdout",
     "output_type": "stream",
     "text": [
      "4\n",
      "2\n",
      "6\n",
      "starting point, try again\n"
     ]
    },
    {
     "name": "stdin",
     "output_type": "stream",
     "text": [
      "play a game? y\n"
     ]
    }
   ],
   "source": [
    "import numpy as np\n",
    "from numpy import random\n",
    "Game_1 = np.array([1, 2, 3, 4, 5, 6])\n",
    "\n",
    "count = 1\n",
    "while True:\n",
    "    user = input(\"play a game?\" )\n",
    "    Out_1 = random.choice(random.permutation(Game_1))\n",
    "    Out_2 = random.choice(random.permutation(Game_1))\n",
    "    print(Out_1)\n",
    "    print(Out_2)\n",
    "\n",
    "    End = Out_1 + Out_2\n",
    "    print(End)\n",
    "    if user == \"y\":\n",
    "        if End == 12:\n",
    "            print(\"Bravo\")\n",
    "            break\n",
    "        elif End < 12 and End >= 10:\n",
    "            print(\"Good! but you can do better\")\n",
    "        elif End < 10 and End > 6:\n",
    "            print(\"fair enough. you still got more\")\n",
    "        elif End == 6:\n",
    "            print(\"starting point, try again\")\n",
    "        elif End < 6:\n",
    "            print(\"just dey play\")\n",
    "        else: \n",
    "            print(\"keep trying\")\n",
    "        count += 1\n",
    "    else:\n",
    "        break\n",
    "        \n",
    "print(count)\n",
    "        "
   ]
  },
  {
   "cell_type": "code",
   "execution_count": null,
   "id": "ef8c9df9-ba84-4cfe-b7ea-9a3e93114b4c",
   "metadata": {},
   "outputs": [],
   "source": []
  },
  {
   "cell_type": "code",
   "execution_count": null,
   "id": "93efa6b5-6e6c-491a-ae3e-151392de09ad",
   "metadata": {},
   "outputs": [],
   "source": []
  }
 ],
 "metadata": {
  "kernelspec": {
   "display_name": "Python 3 (ipykernel)",
   "language": "python",
   "name": "python3"
  },
  "language_info": {
   "codemirror_mode": {
    "name": "ipython",
    "version": 3
   },
   "file_extension": ".py",
   "mimetype": "text/x-python",
   "name": "python",
   "nbconvert_exporter": "python",
   "pygments_lexer": "ipython3",
   "version": "3.9.13"
  }
 },
 "nbformat": 4,
 "nbformat_minor": 5
}
